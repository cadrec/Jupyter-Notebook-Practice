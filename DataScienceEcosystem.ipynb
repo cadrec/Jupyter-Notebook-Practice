{
 "cells": [
  {
   "cell_type": "markdown",
   "id": "b9203235-bdb0-4b24-93e8-39062c13c8d6",
   "metadata": {},
   "source": [
    "# Data Science Tools and Ecosystem"
   ]
  },
  {
   "cell_type": "markdown",
   "id": "f7165990-d09f-4e8a-9c39-73978c02dcb8",
   "metadata": {},
   "source": [
    "In this notebook, Data Science Tools and Ecosystems will be explained in depth."
   ]
  },
  {
   "cell_type": "markdown",
   "id": "b33d8227-9333-4e86-b349-fdbcf054670f",
   "metadata": {},
   "source": [
    "<b>Objectives: </b>"
   ]
  },
  {
   "cell_type": "markdown",
   "id": "ee6d3044-e4d8-4aa6-af5f-2e4d317be226",
   "metadata": {},
   "source": [
    "* List popular languages\n",
    "* List popular libraries\n",
    "* List popular tools\n",
    "* Highlight arthmetic expressions"
   ]
  },
  {
   "cell_type": "markdown",
   "id": "8b318d74-4605-4b3a-9da9-d4c1e5d5951d",
   "metadata": {},
   "source": [
    "Some of the popular languages that are used by Data Scientists:"
   ]
  },
  {
   "cell_type": "markdown",
   "id": "bea8e7bf-2003-4872-97d9-369768b48ba8",
   "metadata": {},
   "source": [
    "1. Python\n",
    "2. SQL\n",
    "3. R\n",
    "4. Java\n",
    "5. MATLAB"
   ]
  },
  {
   "cell_type": "markdown",
   "id": "cd5b5a4b-124f-4a03-ae98-44d808e0ba79",
   "metadata": {},
   "source": [
    "Some of the popular libraries that are used by Data Scientists:"
   ]
  },
  {
   "cell_type": "markdown",
   "id": "b0abf584-7df2-48e2-9f3d-e12b3733cabf",
   "metadata": {},
   "source": [
    "1. TensorFlow\n",
    "2. NumPy\n",
    "3. SciPy\n",
    "4. Pandas\n",
    "5. Matplotlib"
   ]
  },
  {
   "cell_type": "markdown",
   "id": "275e11ea-7aa0-46a9-bf1b-3c7d02d97efb",
   "metadata": {},
   "source": [
    "| Data Science Tools |\n",
    "| --- |\n",
    "| R Studio |\n",
    "| Apache Spark |\n",
    "| Jupyter Notebooks |"
   ]
  },
  {
   "cell_type": "code",
   "execution_count": 6,
   "id": "d08e7aeb-9a24-4fd8-b8e5-321ca961030e",
   "metadata": {
    "jupyter": {
     "source_hidden": true
    },
    "tags": []
   },
   "outputs": [
    {
     "data": {
      "text/html": [
       "<style>\n",
       "table {float:left}\n",
       "</style>\n"
      ],
      "text/plain": [
       "<IPython.core.display.HTML object>"
      ]
     },
     "metadata": {},
     "output_type": "display_data"
    }
   ],
   "source": [
    "%%html\n",
    "<style>\n",
    "table {float:left}\n",
    "</style>"
   ]
  },
  {
   "cell_type": "markdown",
   "id": "bede4b06-c204-4864-b00e-ca96a48ec534",
   "metadata": {
    "tags": []
   },
   "source": [
    "### Here are a few examples of using arithmetic expressions in Python:"
   ]
  },
  {
   "cell_type": "code",
   "execution_count": 7,
   "id": "787c3620-099f-4af7-8493-d2699e1217ee",
   "metadata": {},
   "outputs": [
    {
     "data": {
      "text/plain": [
       "2"
      ]
     },
     "execution_count": 7,
     "metadata": {},
     "output_type": "execute_result"
    }
   ],
   "source": [
    "1 + 1"
   ]
  },
  {
   "cell_type": "code",
   "execution_count": 8,
   "id": "19276954-3351-4cbd-b075-84bb92a2e2db",
   "metadata": {},
   "outputs": [
    {
     "data": {
      "text/plain": [
       "1"
      ]
     },
     "execution_count": 8,
     "metadata": {},
     "output_type": "execute_result"
    }
   ],
   "source": [
    "2 - 1"
   ]
  },
  {
   "cell_type": "code",
   "execution_count": 9,
   "id": "0f94c067-c807-4d54-aee3-32eef61f6801",
   "metadata": {},
   "outputs": [
    {
     "data": {
      "text/plain": [
       "4"
      ]
     },
     "execution_count": 9,
     "metadata": {},
     "output_type": "execute_result"
    }
   ],
   "source": [
    "2 * 2"
   ]
  },
  {
   "cell_type": "code",
   "execution_count": 10,
   "id": "695ffd4d-1133-4f1f-86d2-445ffa6c3d92",
   "metadata": {},
   "outputs": [
    {
     "data": {
      "text/plain": [
       "2.0"
      ]
     },
     "execution_count": 10,
     "metadata": {},
     "output_type": "execute_result"
    }
   ],
   "source": [
    "4 / 2 "
   ]
  },
  {
   "cell_type": "code",
   "execution_count": 14,
   "id": "adcc2971-7bc6-48cb-b364-1010a485bdef",
   "metadata": {},
   "outputs": [],
   "source": [
    "# This a simple arithmetic expression to mutiply then add integers"
   ]
  },
  {
   "cell_type": "code",
   "execution_count": 11,
   "id": "aea553ff-709f-4ca6-82a3-c1bab0238bdb",
   "metadata": {},
   "outputs": [
    {
     "data": {
      "text/plain": [
       "17"
      ]
     },
     "execution_count": 11,
     "metadata": {},
     "output_type": "execute_result"
    }
   ],
   "source": [
    "(3*4)+5"
   ]
  },
  {
   "cell_type": "code",
   "execution_count": 13,
   "id": "4306c282-0e49-410b-99dc-a207d5e55964",
   "metadata": {},
   "outputs": [],
   "source": [
    "# This will convert 200 minutes to hours by diving by 60"
   ]
  },
  {
   "cell_type": "code",
   "execution_count": 15,
   "id": "34d956c7-2e74-4a1b-82c9-b8bf648005b1",
   "metadata": {},
   "outputs": [
    {
     "data": {
      "text/plain": [
       "3.3333333333333335"
      ]
     },
     "execution_count": 15,
     "metadata": {},
     "output_type": "execute_result"
    }
   ],
   "source": [
    "200 / 60"
   ]
  },
  {
   "cell_type": "markdown",
   "id": "afb94865-f90e-4aee-b853-7e2a482f54e0",
   "metadata": {},
   "source": [
    "## Author"
   ]
  },
  {
   "cell_type": "markdown",
   "id": "cf0af2d2-cbea-4f83-9618-40f2de2d70f2",
   "metadata": {},
   "source": [
    "Cadre Carrigan"
   ]
  },
  {
   "cell_type": "code",
   "execution_count": null,
   "id": "5abe0f87-cb31-47a0-a6ba-c8ed481bb0e3",
   "metadata": {},
   "outputs": [],
   "source": []
  }
 ],
 "metadata": {
  "kernelspec": {
   "display_name": "Python 3 (ipykernel)",
   "language": "python",
   "name": "python3"
  },
  "language_info": {
   "codemirror_mode": {
    "name": "ipython",
    "version": 3
   },
   "file_extension": ".py",
   "mimetype": "text/x-python",
   "name": "python",
   "nbconvert_exporter": "python",
   "pygments_lexer": "ipython3",
   "version": "3.10.9"
  }
 },
 "nbformat": 4,
 "nbformat_minor": 5
}
